{
 "cells": [
  {
   "cell_type": "code",
   "execution_count": 122,
   "id": "25c8b09f",
   "metadata": {},
   "outputs": [],
   "source": [
    "import requests\n",
    "\n",
    "req = requests.get('https://en.wikipedia.org/wiki/List_of_presidents_of_the_United_States')"
   ]
  },
  {
   "cell_type": "code",
   "execution_count": 123,
   "id": "3e4b4386",
   "metadata": {},
   "outputs": [
    {
     "data": {
      "text/plain": [
       "<Response [200]>"
      ]
     },
     "execution_count": 123,
     "metadata": {},
     "output_type": "execute_result"
    }
   ],
   "source": [
    "req"
   ]
  },
  {
   "cell_type": "code",
   "execution_count": 124,
   "id": "7d96f5fd",
   "metadata": {},
   "outputs": [],
   "source": [
    "webpage = req.text"
   ]
  },
  {
   "cell_type": "code",
   "execution_count": 126,
   "id": "4951b809",
   "metadata": {},
   "outputs": [],
   "source": [
    "from bs4 import BeautifulSoup\n",
    "\n",
    "soup = BeautifulSoup(webpage, 'html.parser')"
   ]
  },
  {
   "cell_type": "code",
   "execution_count": 128,
   "id": "56757575",
   "metadata": {},
   "outputs": [],
   "source": [
    "paragraph = soup.find_all('p')"
   ]
  },
  {
   "cell_type": "code",
   "execution_count": 130,
   "id": "de65bb29",
   "metadata": {},
   "outputs": [],
   "source": [
    "paragraph = soup.find('p', attrs={\"class\":False})"
   ]
  },
  {
   "cell_type": "code",
   "execution_count": 177,
   "id": "4e9e5b66",
   "metadata": {},
   "outputs": [
    {
     "data": {
      "text/plain": [
       "[<a href=\"/wiki/President_of_the_United_States\" title=\"President of the United States\">president of the United States</a>,\n",
       " <a href=\"/wiki/Head_of_state\" title=\"Head of state\">head of state</a>,\n",
       " <a href=\"/wiki/Head_of_government\" title=\"Head of government\">head of government</a>,\n",
       " <a href=\"#cite_note-FOOTNOTERossiter196286-1\">[1]</a>,\n",
       " <a class=\"mw-redirect\" href=\"/wiki/Indirectly_elected\" title=\"Indirectly elected\">indirectly elected</a>,\n",
       " <a href=\"/wiki/Term_of_office\" title=\"Term of office\">term</a>,\n",
       " <a href=\"/wiki/United_States_Electoral_College\" title=\"United States Electoral College\">Electoral College</a>,\n",
       " <a href=\"#cite_note-FOOTNOTEShugart2004633–636-2\">[2]</a>,\n",
       " <a href=\"/wiki/Executive_(government)\" title=\"Executive (government)\">executive branch</a>,\n",
       " <a href=\"/wiki/Federal_government_of_the_United_States\" title=\"Federal government of the United States\">federal government</a>,\n",
       " <a href=\"/wiki/Commander-in-chief\" title=\"Commander-in-chief\">commander-in-chief</a>,\n",
       " <a href=\"/wiki/United_States_Armed_Forces\" title=\"United States Armed Forces\">United States Armed Forces</a>,\n",
       " <a href=\"#cite_note-FOOTNOTEEpstein2005318-3\">[3]</a>,\n",
       " <a href=\"/wiki/George_Washington\" title=\"George Washington\">George Washington</a>,\n",
       " <a href=\"#cite_note-FOOTNOTEMatuz2001xxii-4\">[4]</a>,\n",
       " <a href=\"/wiki/Grover_Cleveland\" title=\"Grover Cleveland\">Grover Cleveland</a>,\n",
       " <a href=\"#cite_note-FOOTNOTESchallerWilliams2003192-5\">[5]</a>,\n",
       " <a href=\"/wiki/Joe_Biden\" title=\"Joe Biden\">Joe Biden</a>,\n",
       " <a href=\"#cite_note-FOOTNOTEwhitehouse.gov_(g)-6\">[6]</a>]"
      ]
     },
     "execution_count": 177,
     "metadata": {},
     "output_type": "execute_result"
    }
   ],
   "source": [
    "paragraph.find_all('a')"
   ]
  },
  {
   "cell_type": "code",
   "execution_count": 178,
   "id": "7cd8ef0f",
   "metadata": {},
   "outputs": [
    {
     "data": {
      "text/plain": [
       "[<a href=\"/wiki/President_of_the_United_States\" title=\"President of the United States\">president of the United States</a>,\n",
       " <a href=\"/wiki/Head_of_state\" title=\"Head of state\">head of state</a>,\n",
       " <a href=\"/wiki/Head_of_government\" title=\"Head of government\">head of government</a>,\n",
       " <a class=\"mw-redirect\" href=\"/wiki/Indirectly_elected\" title=\"Indirectly elected\">indirectly elected</a>,\n",
       " <a href=\"/wiki/Term_of_office\" title=\"Term of office\">term</a>,\n",
       " <a href=\"/wiki/United_States_Electoral_College\" title=\"United States Electoral College\">Electoral College</a>,\n",
       " <a href=\"/wiki/Executive_(government)\" title=\"Executive (government)\">executive branch</a>,\n",
       " <a href=\"/wiki/Federal_government_of_the_United_States\" title=\"Federal government of the United States\">federal government</a>,\n",
       " <a href=\"/wiki/Commander-in-chief\" title=\"Commander-in-chief\">commander-in-chief</a>,\n",
       " <a href=\"/wiki/United_States_Armed_Forces\" title=\"United States Armed Forces\">United States Armed Forces</a>,\n",
       " <a href=\"/wiki/George_Washington\" title=\"George Washington\">George Washington</a>,\n",
       " <a href=\"/wiki/Grover_Cleveland\" title=\"Grover Cleveland\">Grover Cleveland</a>,\n",
       " <a href=\"/wiki/Joe_Biden\" title=\"Joe Biden\">Joe Biden</a>]"
      ]
     },
     "execution_count": 178,
     "metadata": {},
     "output_type": "execute_result"
    }
   ],
   "source": [
    "paragraph.find_all('a', attrs={\"title\":True})"
   ]
  },
  {
   "cell_type": "code",
   "execution_count": 179,
   "id": "397de196",
   "metadata": {},
   "outputs": [],
   "source": [
    "data = {\"title\":[], \"href\":[]}\n",
    "for link in paragraph.find_all('a', attrs={\"title\":True}):\n",
    "    data[\"title\"].append(link[\"title\"])\n",
    "    data[\"href\"].append(link[\"href\"])"
   ]
  },
  {
   "cell_type": "code",
   "execution_count": 180,
   "id": "5cee0cf9",
   "metadata": {},
   "outputs": [],
   "source": [
    "import pandas as pd\n",
    "df = pd.DataFrame(data)"
   ]
  },
  {
   "cell_type": "code",
   "execution_count": 181,
   "id": "6522bd5a",
   "metadata": {},
   "outputs": [
    {
     "data": {
      "text/html": [
       "<div>\n",
       "<style scoped>\n",
       "    .dataframe tbody tr th:only-of-type {\n",
       "        vertical-align: middle;\n",
       "    }\n",
       "\n",
       "    .dataframe tbody tr th {\n",
       "        vertical-align: top;\n",
       "    }\n",
       "\n",
       "    .dataframe thead th {\n",
       "        text-align: right;\n",
       "    }\n",
       "</style>\n",
       "<table border=\"1\" class=\"dataframe\">\n",
       "  <thead>\n",
       "    <tr style=\"text-align: right;\">\n",
       "      <th></th>\n",
       "      <th>title</th>\n",
       "      <th>href</th>\n",
       "    </tr>\n",
       "  </thead>\n",
       "  <tbody>\n",
       "    <tr>\n",
       "      <th>0</th>\n",
       "      <td>President of the United States</td>\n",
       "      <td>/wiki/President_of_the_United_States</td>\n",
       "    </tr>\n",
       "    <tr>\n",
       "      <th>1</th>\n",
       "      <td>Head of state</td>\n",
       "      <td>/wiki/Head_of_state</td>\n",
       "    </tr>\n",
       "    <tr>\n",
       "      <th>2</th>\n",
       "      <td>Head of government</td>\n",
       "      <td>/wiki/Head_of_government</td>\n",
       "    </tr>\n",
       "    <tr>\n",
       "      <th>3</th>\n",
       "      <td>Indirectly elected</td>\n",
       "      <td>/wiki/Indirectly_elected</td>\n",
       "    </tr>\n",
       "    <tr>\n",
       "      <th>4</th>\n",
       "      <td>Term of office</td>\n",
       "      <td>/wiki/Term_of_office</td>\n",
       "    </tr>\n",
       "    <tr>\n",
       "      <th>5</th>\n",
       "      <td>United States Electoral College</td>\n",
       "      <td>/wiki/United_States_Electoral_College</td>\n",
       "    </tr>\n",
       "    <tr>\n",
       "      <th>6</th>\n",
       "      <td>Executive (government)</td>\n",
       "      <td>/wiki/Executive_(government)</td>\n",
       "    </tr>\n",
       "    <tr>\n",
       "      <th>7</th>\n",
       "      <td>Federal government of the United States</td>\n",
       "      <td>/wiki/Federal_government_of_the_United_States</td>\n",
       "    </tr>\n",
       "    <tr>\n",
       "      <th>8</th>\n",
       "      <td>Commander-in-chief</td>\n",
       "      <td>/wiki/Commander-in-chief</td>\n",
       "    </tr>\n",
       "    <tr>\n",
       "      <th>9</th>\n",
       "      <td>United States Armed Forces</td>\n",
       "      <td>/wiki/United_States_Armed_Forces</td>\n",
       "    </tr>\n",
       "    <tr>\n",
       "      <th>10</th>\n",
       "      <td>George Washington</td>\n",
       "      <td>/wiki/George_Washington</td>\n",
       "    </tr>\n",
       "    <tr>\n",
       "      <th>11</th>\n",
       "      <td>Grover Cleveland</td>\n",
       "      <td>/wiki/Grover_Cleveland</td>\n",
       "    </tr>\n",
       "    <tr>\n",
       "      <th>12</th>\n",
       "      <td>Joe Biden</td>\n",
       "      <td>/wiki/Joe_Biden</td>\n",
       "    </tr>\n",
       "  </tbody>\n",
       "</table>\n",
       "</div>"
      ],
      "text/plain": [
       "                                      title  \\\n",
       "0            President of the United States   \n",
       "1                             Head of state   \n",
       "2                        Head of government   \n",
       "3                        Indirectly elected   \n",
       "4                            Term of office   \n",
       "5           United States Electoral College   \n",
       "6                    Executive (government)   \n",
       "7   Federal government of the United States   \n",
       "8                        Commander-in-chief   \n",
       "9                United States Armed Forces   \n",
       "10                        George Washington   \n",
       "11                         Grover Cleveland   \n",
       "12                                Joe Biden   \n",
       "\n",
       "                                             href  \n",
       "0            /wiki/President_of_the_United_States  \n",
       "1                             /wiki/Head_of_state  \n",
       "2                        /wiki/Head_of_government  \n",
       "3                        /wiki/Indirectly_elected  \n",
       "4                            /wiki/Term_of_office  \n",
       "5           /wiki/United_States_Electoral_College  \n",
       "6                    /wiki/Executive_(government)  \n",
       "7   /wiki/Federal_government_of_the_United_States  \n",
       "8                        /wiki/Commander-in-chief  \n",
       "9                /wiki/United_States_Armed_Forces  \n",
       "10                        /wiki/George_Washington  \n",
       "11                         /wiki/Grover_Cleveland  \n",
       "12                                /wiki/Joe_Biden  "
      ]
     },
     "execution_count": 181,
     "metadata": {},
     "output_type": "execute_result"
    }
   ],
   "source": [
    "df"
   ]
  },
  {
   "cell_type": "code",
   "execution_count": 183,
   "id": "1c71d2ee",
   "metadata": {},
   "outputs": [],
   "source": [
    "webpages = []\n",
    "head = \"https://en.wikipedia.org\"\n",
    "for href in data[\"href\"]:\n",
    "    link = head + href\n",
    "    req = requests.get(link)\n",
    "    webpage = req.text\n",
    "    webpages.append(webpage)"
   ]
  },
  {
   "cell_type": "code",
   "execution_count": null,
   "id": "8220ba5e",
   "metadata": {},
   "outputs": [],
   "source": []
  }
 ],
 "metadata": {
  "kernelspec": {
   "display_name": "Python 3 (ipykernel)",
   "language": "python",
   "name": "python3"
  },
  "language_info": {
   "codemirror_mode": {
    "name": "ipython",
    "version": 3
   },
   "file_extension": ".py",
   "mimetype": "text/x-python",
   "name": "python",
   "nbconvert_exporter": "python",
   "pygments_lexer": "ipython3",
   "version": "3.9.13"
  }
 },
 "nbformat": 4,
 "nbformat_minor": 5
}
